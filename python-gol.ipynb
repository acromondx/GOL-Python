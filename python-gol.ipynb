{
 "cells": [
  {
   "cell_type": "code",
   "execution_count": 10,
   "metadata": {},
   "outputs": [
    {
     "data": {
      "image/png": "[encoded data removed]",
      "text/plain": [
       "<Figure size 432x288 with 1 Axes>"
      ]
     },
     "metadata": {
      "needs_background": "light"
     },
     "output_type": "display_data"
    }
   ],
   "source": [
    "import numpy as np\n",
    "import matplotlib.pyplot as plt\n",
    "import matplotlib.animation as animation\n",
    "\n",
    "def update(frameNum, img, grid, N):\n",
    "    newGrid = grid.copy()\n",
    "    for i in range(N):\n",
    "        for j in range(N):\n",
    "            total = (grid[i, (j-1)%N] + grid[i, (j+1)%N] + \n",
    "                     grid[(i-1)%N, j] + grid[(i+1)%N, j] + \n",
    "                     grid[(i-1)%N, (j-1)%N] + grid[(i-1)%N, (j+1)%N] + \n",
    "                     grid[(i+1)%N, (j-1)%N] + grid[(i+1)%N, (j+1)%N])/255\n",
    "            if grid[i, j]  == 255:\n",
    "                if (total < 2) or (total > 3):\n",
    "                    newGrid[i, j] = 0\n",
    "            else:\n",
    "                if total == 3:\n",
    "                    newGrid[i, j] = 255\n",
    "    img.set_data(newGrid)\n",
    "    grid[:] = newGrid[:]\n",
    "    return img,\n",
    "\n",
    "N = 100\n",
    "grid = np.random.choice([0, 255], (N, N), p=[0.2, 0.8]).astype(np.uint8)\n",
    "\n",
    "fig, ax = plt.subplots()\n",
    "img = ax.imshow(grid, interpolation='nearest')\n",
    "ani = animation.FuncAnimation(fig, update, fargs=(img, grid, N),\n",
    "                              frames = 10,\n",
    "                              interval=50,\n",
    "                              save_count=50)\n",
    "plt.show()\n"
   ]
  }
 ],
 "metadata": {
  "kernelspec": {
   "display_name": "base",
   "language": "python",
   "name": "python3"
  },
  "language_info": {
   "codemirror_mode": {
    "name": "ipython",
    "version": 3
   },
   "file_extension": ".py",
   "mimetype": "text/x-python",
   "name": "python",
   "nbconvert_exporter": "python",
   "pygments_lexer": "ipython3",
   "version": "3.9.12"
  },
  "orig_nbformat": 4,
  "vscode": {
   "interpreter": {
    "hash": "1939eaf1c356f4903c4580378a5abbae19edfa3666796d5982183d57a77bd525"
   }
  }
 },
 "nbformat": 4,
 "nbformat_minor": 2
}
